{
 "cells": [
  {
   "cell_type": "markdown",
   "metadata": {},
   "source": [
    "# Functions"
   ]
  },
  {
   "cell_type": "code",
   "execution_count": null,
   "metadata": {},
   "outputs": [],
   "source": [
    "from math import ceil"
   ]
  },
  {
   "cell_type": "code",
   "execution_count": null,
   "metadata": {},
   "outputs": [],
   "source": [
    "def prompt_user(wallets):\n",
    "    wallets.append(float(input(\"Money in wallet 1: \")))\n",
    "    wallets.append(float(input(\"Money in wallet 2: \")))\n",
    "    wallets.append(float(input(\"Money in wallet 3: \")))\n",
    "    wallets.append(float(input(\"Money in wallet 4: \")))\n",
    "    wallets.append(float(input(\"Money in wallet 5: \")))"
   ]
  },
  {
   "cell_type": "code",
   "execution_count": null,
   "metadata": {},
   "outputs": [],
   "source": [
    "def get_fattest(wallets):\n",
    "    return max(wallets)"
   ]
  },
  {
   "cell_type": "code",
   "execution_count": null,
   "metadata": {},
   "outputs": [],
   "source": [
    "def get_skinniest(wallets):\n",
    "    return min(wallets)"
   ]
  },
  {
   "cell_type": "code",
   "execution_count": null,
   "metadata": {},
   "outputs": [],
   "source": [
    "def get_total(wallets):\n",
    "    return sum(wallets)"
   ]
  },
  {
   "cell_type": "code",
   "execution_count": null,
   "metadata": {},
   "outputs": [],
   "source": [
    "def get_total_dimes(wallets):\n",
    "    return ceil(get_total(wallets) / 0.10)"
   ]
  },
  {
   "cell_type": "code",
   "execution_count": null,
   "metadata": {},
   "outputs": [],
   "source": [
    "def report_fattest(fattest):\n",
    "    print(\"The fattest wallet has ${:,.2f} in it.\".format(fattest))"
   ]
  },
  {
   "cell_type": "code",
   "execution_count": null,
   "metadata": {},
   "outputs": [],
   "source": [
    "def report_skinniest(skinniest):\n",
    "    print(\"The skinniest wallet has ${:,.2f} in it.\".format(skinniest))"
   ]
  },
  {
   "cell_type": "code",
   "execution_count": null,
   "metadata": {},
   "outputs": [],
   "source": [
    "def report_total(total):\n",
    "    print(\"All together, these wallets have ${:,.2f} in them.\".format(total))"
   ]
  },
  {
   "cell_type": "code",
   "execution_count": null,
   "metadata": {},
   "outputs": [],
   "source": [
    "def report_total_dimes(total_dimes):\n",
    "    print(\"All together, the total value of these wallets is worth {:,} dimes\".format(total_dimes))"
   ]
  },
  {
   "cell_type": "code",
   "execution_count": null,
   "metadata": {},
   "outputs": [],
   "source": [
    "def nl():\n",
    "    print()"
   ]
  },
  {
   "cell_type": "markdown",
   "metadata": {},
   "source": [
    "# Main"
   ]
  },
  {
   "cell_type": "code",
   "execution_count": null,
   "metadata": {
    "collapsed": true
   },
   "outputs": [],
   "source": [
    "# main()\n",
    "wallets = []\n",
    "\n",
    "# get 5 wallet amounts\n",
    "prompt_user(wallets)\n",
    "\n",
    "nl()\n",
    "\n",
    "# report data\n",
    "report_fattest(get_fattest(wallets))\n",
    "report_skinniest(get_skinniest(wallets))\n",
    "\n",
    "nl()\n",
    "\n",
    "report_total(get_total(wallets))\n",
    "report_total_dimes(get_total_dimes(wallets))\n",
    "\n",
    "nl()"
   ]
  }
 ],
 "metadata": {
  "kernelspec": {
   "display_name": "Python 3",
   "language": "python",
   "name": "python3"
  },
  "language_info": {
   "codemirror_mode": {
    "name": "ipython",
    "version": 3
   },
   "file_extension": ".py",
   "mimetype": "text/x-python",
   "name": "python",
   "nbconvert_exporter": "python",
   "pygments_lexer": "ipython3",
   "version": "3.6.11"
  }
 },
 "nbformat": 4,
 "nbformat_minor": 4
}
