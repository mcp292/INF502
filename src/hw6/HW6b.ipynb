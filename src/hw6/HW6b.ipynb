{
    "cells": [
        {
            "cell_type": "markdown",
            "metadata": {},
            "source": [
                "# Visualizing Chipotle's Data"
            ]
        },
        {
            "cell_type": "markdown",
            "metadata": {},
            "source": [
                "Special thanks to: https://github.com/justmarkham for sharing the dataset and materials.\n",
                "\n",
                "### Step 1. Import the necessary libraries"
            ]
        },
        {
            "cell_type": "code",
            "execution_count": null,
            "metadata": {},
            "outputs": [],
            "source": [
                "import pandas as pd"
            ]
        },
        {
            "cell_type": "markdown",
            "metadata": {},
            "source": [
                "### Step 2. Import the dataset (chipotle.tsv). "
            ]
        },
        {
            "cell_type": "code",
            "execution_count": null,
            "metadata": {},
            "outputs": [],
            "source": [
                "dataset = pd.read_csv(\"chipotle.tsv\", sep='\\t')\n",
                "# OR\n",
                "dataset = pd.read_table(\"chipotle.tsv\")"
            ]  
        },
        {
            "cell_type": "markdown",
            "metadata": {},
            "source": [
                "### Step 3. Assign it to a variable called chipo."
            ]
        },
        {
            "cell_type": "code",
            "execution_count": null,
            "metadata": {},
            "outputs": [],
            "source": [
                "chipo = dataset"
            ]
        },
        {
            "cell_type": "markdown",
            "metadata": {},
            "source": [
                "### Step 4. See the first 10 entries"
            ]
        },
        {
            "cell_type": "code",
            "execution_count": null,
            "metadata": {
                "scrolled": false
            },
            "outputs": [],
            "source": [
                "chipo.head(10)"
            ]
        },
        {
            "cell_type": "markdown",
            "metadata": {},
            "source": [
                "### Step 5. Create a bar plot of the top 5 items bought (total quantity per item)\n",
                "Think simple... It is possible to do with what you know. No extras needed."
            ]
        },
        {
            "cell_type": "code",
            "execution_count": null,
            "metadata": {},
            "outputs": [],
            "source": [
                "chipo_subset = chipo[[\"item_name\", \"quantity\"]]                        # extract\n",
                "chipo_subset = chipo_subset.groupby(\"item_name\", as_index=False).sum() # groupby\n",
                "chipo_subset = chipo_subset.sort_values(\"quantity\", ascending=False)   # sort\n",
                "\n",
                "chipo_top5 = chipo_subset.head(5) # only take top 5\n",
                "\n",
                "chipo_plot = chipo_top5.plot.bar(\"item_name\", \"quantity\")\n",
                "chipo_plot.set_xlabel(\"Item name\")\n",
                "chipo_plot.set_ylabel(\"Total sold\")\n",
                "chipo_plot.set_title(\"Top 5 Items Bought at Chipotle\")\n"
            ]
        },
        {
            "cell_type": "markdown",
            "metadata": {},
            "source": [
                "### Step 6. Create a scatterplot with the number of items orderered per order price\n",
                "#### Hint: Price should be in the X-axis and Items ordered in the Y-axis\n",
                "(You will have to groupby and use the result"
            ]
        },
        {
            "cell_type": "code",
            "execution_count": null,
            "metadata": {},
            "outputs": [],
            "source": [
                "chipo_subset = chipo[[\"order_id\", \"quantity\", \"item_price\"]]          # extract\n",
                "chipo_subset = chipo_subset.groupby(\"order_id\", as_index=False).sum() # groupby\n",
                "\n",
                "chipo_plot = chipo_subset.plot.scatter(\"item_price\", \"quantity\")\n",
                "chipo_plot.set_xlabel(\"Order Price ($)\")\n",
                "chipo_plot.set_ylabel(\"Items Purchased\")\n",
                "chipo_plot.set_title(\"Items Purchased vs Order Price\")\n"
            ]
        }
    ],
    "metadata": {
        "kernelspec": {
            "display_name": "Python 3",
            "language": "python",
            "name": "python3"
        },
        "language_info": {
            "codemirror_mode": {
                "name": "ipython",
                "version": 3
            },
            "file_extension": ".py",
            "mimetype": "text/x-python",
            "name": "python",
            "nbconvert_exporter": "python",
            "pygments_lexer": "ipython3",
            "version": "3.7.3"
        }
    },
    "nbformat": 4,
    "nbformat_minor": 1
}
